{
 "metadata": {
  "language_info": {
   "codemirror_mode": {
    "name": "ipython",
    "version": 3
   },
   "file_extension": ".py",
   "mimetype": "text/x-python",
   "name": "python",
   "nbconvert_exporter": "python",
   "pygments_lexer": "ipython3",
   "version": "3.9.1"
  },
  "orig_nbformat": 4,
  "kernelspec": {
   "name": "python3",
   "display_name": "Python 3.9.1 64-bit"
  },
  "interpreter": {
   "hash": "aee8b7b246df8f9039afb4144a1f6fd8d2ca17a180786b69acc140d282b71a49"
  }
 },
 "nbformat": 4,
 "nbformat_minor": 2,
 "cells": [
  {
   "cell_type": "code",
   "execution_count": 56,
   "metadata": {
    "tags": []
   },
   "outputs": [
    {
     "output_type": "stream",
     "name": "stdout",
     "text": [
      "result 201\n"
     ]
    }
   ],
   "source": [
    "from itertools import combinations_with_replacement\n",
    "\n",
    "r = 0\n",
    "for blackArray in combinations_with_replacement([\"A\", \"B\", \"C\", \"D\"], 6):\n",
    "    for whiteArray in combinations_with_replacement([\"A\", \"B\", \"C\", \"D\"], 6):\n",
    "        ab = blackArray.count(\"A\")\n",
    "        bb = blackArray.count(\"B\")\n",
    "        cb = blackArray.count(\"C\")\n",
    "        db = blackArray.count(\"D\")\n",
    "        aw = whiteArray.count(\"A\")\n",
    "        bw = whiteArray.count(\"B\")\n",
    "        cw = whiteArray.count(\"C\")\n",
    "        dw = whiteArray.count(\"D\")\n",
    "        if (bb + bw) > 0 and (cb +cw) > 0 and (db + dw) > 0:\n",
    "            if ab >= 4 and ab > aw:\n",
    "                moreBlack = 0\n",
    "                if bb > bw:\n",
    "                    moreBlack += 1\n",
    "                if cb > cw:\n",
    "                    moreBlack += 1\n",
    "                if db > dw:\n",
    "                    moreBlack += 1\n",
    "                if moreBlack == 1:\n",
    "                    r += 1\n",
    "                    # print(blackArray, whiteArray)\n",
    "                    # print(ab, bb, cb, db)\n",
    "                    # print(aw, bw, cw, dw)\n",
    "\n",
    "print(\"result\", r)\n",
    "\n"
   ]
  },
  {
   "source": [
    "답 201"
   ],
   "cell_type": "markdown",
   "metadata": {}
  }
 ]
}