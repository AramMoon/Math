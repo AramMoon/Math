{
 "metadata": {
  "language_info": {
   "codemirror_mode": {
    "name": "ipython",
    "version": 3
   },
   "file_extension": ".py",
   "mimetype": "text/x-python",
   "name": "python",
   "nbconvert_exporter": "python",
   "pygments_lexer": "ipython3",
   "version": "3.9.1"
  },
  "orig_nbformat": 4,
  "kernelspec": {
   "name": "python3",
   "display_name": "Python 3.9.1 64-bit"
  },
  "interpreter": {
   "hash": "aee8b7b246df8f9039afb4144a1f6fd8d2ca17a180786b69acc140d282b71a49"
  }
 },
 "nbformat": 4,
 "nbformat_minor": 2,
 "cells": [
  {
   "cell_type": "code",
   "execution_count": 5,
   "metadata": {},
   "outputs": [
    {
     "output_type": "stream",
     "name": "stdout",
     "text": [
      "(-a + x)*(-b + x)**2 (-a + x)*(-2*b + 2*x) + (-b + x)**2\n"
     ]
    }
   ],
   "source": [
    "import sympy as sym\n",
    "from sympy.plotting import plot\n",
    "from sympy import simplify\n",
    "\n",
    "x = sym.Symbol('x')\n",
    "a = sym.Symbol('a')\n",
    "b = sym.Symbol('b')\n",
    "fx = (x-a)*(x-b)**2\n",
    "simplify(fx)\n",
    "dfx = sym.diff(fx,x)\n",
    "\n",
    "print(fx, dfx)\n",
    "# plot(a)\n",
    "# simplify(a)"
   ]
  },
  {
   "source": [
    "Pass"
   ],
   "cell_type": "markdown",
   "metadata": {}
  }
 ]
}