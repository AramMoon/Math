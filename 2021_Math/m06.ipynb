{
 "metadata": {
  "language_info": {
   "codemirror_mode": {
    "name": "ipython",
    "version": 3
   },
   "file_extension": ".py",
   "mimetype": "text/x-python",
   "name": "python",
   "nbconvert_exporter": "python",
   "pygments_lexer": "ipython3",
   "version": 3
  },
  "orig_nbformat": 4
 },
 "nbformat": 4,
 "nbformat_minor": 2,
 "cells": [
  {
   "source": [
    "오래되서 기억이 나지 않지만 평균과 표준편차의 합을 구하는 듯하다.\n",
    "평균 20 표준편차 5 / 4  \n",
    "답 2 $ 85 \\over 4 $"
   ],
   "cell_type": "markdown",
   "metadata": {}
  }
 ]
}