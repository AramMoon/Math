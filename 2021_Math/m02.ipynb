{
 "metadata": {
  "language_info": {
   "codemirror_mode": {
    "name": "ipython",
    "version": 3
   },
   "file_extension": ".py",
   "mimetype": "text/x-python",
   "name": "python",
   "nbconvert_exporter": "python",
   "pygments_lexer": "ipython3",
   "version": "3.9.1"
  },
  "orig_nbformat": 4,
  "kernelspec": {
   "name": "python3",
   "display_name": "Python 3.9.1 64-bit"
  },
  "interpreter": {
   "hash": "aee8b7b246df8f9039afb4144a1f6fd8d2ca17a180786b69acc140d282b71a49"
  }
 },
 "nbformat": 4,
 "nbformat_minor": 2,
 "cells": [
  {
   "cell_type": "code",
   "execution_count": 9,
   "metadata": {},
   "outputs": [
    {
     "output_type": "stream",
     "name": "stdout",
     "text": [
      "1 1.929442120413479\n2 1.9925466184849043\n3 1.999250468492593\n4 1.9999250046858887\n5 1.999992500087431\n6 1.9999992502856085\n7 1.9999999254941967\n8 2.0\n9 2.0\n"
     ]
    }
   ],
   "source": [
    "import math\n",
    "for i in range(1,10):\n",
    "    n = pow(10, i)\n",
    "    v = 1 / (math.sqrt(4 * n**2 + 2 * n + 1) - 2 * n)\n",
    "    print(i, v)"
   ]
  },
  {
   "source": [
    "2번 2"
   ],
   "cell_type": "markdown",
   "metadata": {}
  }
 ]
}