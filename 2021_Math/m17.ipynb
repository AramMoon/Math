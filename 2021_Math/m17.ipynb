{
 "metadata": {
  "language_info": {
   "codemirror_mode": {
    "name": "ipython",
    "version": 3
   },
   "file_extension": ".py",
   "mimetype": "text/x-python",
   "name": "python",
   "nbconvert_exporter": "python",
   "pygments_lexer": "ipython3",
   "version": "3.9.1"
  },
  "orig_nbformat": 4,
  "kernelspec": {
   "name": "python3",
   "display_name": "Python 3.9.1 64-bit"
  },
  "interpreter": {
   "hash": "aee8b7b246df8f9039afb4144a1f6fd8d2ca17a180786b69acc140d282b71a49"
  }
 },
 "nbformat": 4,
 "nbformat_minor": 2,
 "cells": [
  {
   "cell_type": "code",
   "execution_count": 19,
   "metadata": {},
   "outputs": [
    {
     "output_type": "stream",
     "name": "stdout",
     "text": [
      "1700062.0 17.00062\n"
     ]
    }
   ],
   "source": [
    "\n",
    "import random\n",
    "import math\n",
    "\n",
    "class Point:\n",
    "    def __init__(self, x, y):\n",
    "        self.x = x\n",
    "        self.y = y\n",
    "\n",
    "def dist(P, A, B):\n",
    "    x2 = (A.x - P.x) * (B.y - P.y) - (A.y - P.y) * (B.x - P.x) \n",
    "    area = abs(x2)\n",
    "    AB = ( (A.x - B.x) ** 2 + (A.y - B.y) ** 2 ) ** 0.5\n",
    "    return ( area / AB )\n",
    "n = 100000\n",
    "s = 0\n",
    "for i in range(0, n):\n",
    "    x = 0\n",
    "    y = 0\n",
    "    for i in range(1,16):\n",
    "        p = random.randrange(1,7)\n",
    "        if p <= 2:\n",
    "            x += 3\n",
    "        if p >= 3:\n",
    "            y += 1\n",
    "    p = Point(x,y)\n",
    "    a = Point(0,0)\n",
    "    b = Point(1,-3/4)\n",
    "    r = dist(p,a,b)\n",
    "    s += r\n",
    "\n",
    "print(s, s/n)\n"
   ]
  },
  {
   "source": [
    "답 3. 17"
   ],
   "cell_type": "markdown",
   "metadata": {}
  }
 ]
}