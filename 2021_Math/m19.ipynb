{
 "metadata": {
  "language_info": {
   "codemirror_mode": {
    "name": "ipython",
    "version": 3
   },
   "file_extension": ".py",
   "mimetype": "text/x-python",
   "name": "python",
   "nbconvert_exporter": "python",
   "pygments_lexer": "ipython3",
   "version": "3.9.1"
  },
  "orig_nbformat": 4,
  "kernelspec": {
   "name": "python3",
   "display_name": "Python 3.9.1 64-bit"
  },
  "interpreter": {
   "hash": "aee8b7b246df8f9039afb4144a1f6fd8d2ca17a180786b69acc140d282b71a49"
  }
 },
 "nbformat": 4,
 "nbformat_minor": 2,
 "cells": [
  {
   "cell_type": "code",
   "execution_count": 20,
   "metadata": {},
   "outputs": [
    {
     "output_type": "stream",
     "name": "stdout",
     "text": [
      "1000000 86929 0.086929\n"
     ]
    }
   ],
   "source": [
    "import math\n",
    "import random\n",
    "\n",
    "n = 1000000\n",
    "hit = 0\n",
    "for i in range(0, n):\n",
    "    k = random.randrange(1,6)\n",
    "    s = 0\n",
    "    if k < 3:\n",
    "        s += random.randrange(1,7)\n",
    "        s += random.randrange(1,7)\n",
    "        s += random.randrange(1,7)\n",
    "    else:\n",
    "        s += random.randrange(1,7)\n",
    "        s += random.randrange(1,7)\n",
    "        s += random.randrange(1,7)\n",
    "        s += random.randrange(1,7)\n",
    "    if s == 10:\n",
    "        hit += 1\n",
    "print(n, hit, hit/n)\n"
   ]
  },
  {
   "cell_type": "code",
   "execution_count": 21,
   "metadata": {},
   "outputs": [
    {
     "output_type": "stream",
     "name": "stdout",
     "text": [
      "0.01625\n0.07592592592592592\n0.07962962962962963\n0.08333333333333333\n0.08703703703703704\n"
     ]
    }
   ],
   "source": [
    "print(13/800)\n",
    "print(41/540)\n",
    "print(43/540)\n",
    "print(1/12)\n",
    "print(47/540)"
   ]
  },
  {
   "source": [
    "답 5 $ 47 \\over 540 $"
   ],
   "cell_type": "markdown",
   "metadata": {}
  }
 ]
}