{
 "metadata": {
  "language_info": {
   "codemirror_mode": {
    "name": "ipython",
    "version": 3
   },
   "file_extension": ".py",
   "mimetype": "text/x-python",
   "name": "python",
   "nbconvert_exporter": "python",
   "pygments_lexer": "ipython3",
   "version": "3.9.1"
  },
  "orig_nbformat": 4,
  "kernelspec": {
   "name": "python3",
   "display_name": "Python 3.9.1 64-bit"
  },
  "interpreter": {
   "hash": "aee8b7b246df8f9039afb4144a1f6fd8d2ca17a180786b69acc140d282b71a49"
  }
 },
 "nbformat": 4,
 "nbformat_minor": 2,
 "cells": [
  {
   "cell_type": "code",
   "execution_count": 10,
   "metadata": {},
   "outputs": [
    {
     "output_type": "stream",
     "name": "stdout",
     "text": [
      "0.7137243789447656\n-0.8660254037844385\n"
     ]
    }
   ],
   "source": [
    "import math\n",
    "\n",
    "theta = math.asin(math.sqrt(21)/7)\n",
    "v = math.tan(-theta)\n",
    "print(v)"
   ]
  },
  {
   "cell_type": "code",
   "execution_count": 4,
   "metadata": {},
   "outputs": [
    {
     "output_type": "execute_result",
     "data": {
      "text/plain": [
       "0.4330127018922193"
      ]
     },
     "metadata": {},
     "execution_count": 4
    }
   ],
   "source": [
    "math.sqrt(3)/4"
   ]
  },
  {
   "cell_type": "code",
   "execution_count": 5,
   "metadata": {},
   "outputs": [
    {
     "output_type": "execute_result",
     "data": {
      "text/plain": [
       "0.8660254037844386"
      ]
     },
     "metadata": {},
     "execution_count": 5
    }
   ],
   "source": [
    "math.sqrt(3)/2"
   ]
  },
  {
   "source": [
    "1번 -$ \\sqrt 3 \\over 2 $"
   ],
   "cell_type": "markdown",
   "metadata": {}
  }
 ]
}