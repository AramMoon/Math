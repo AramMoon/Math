{
 "metadata": {
  "language_info": {
   "codemirror_mode": {
    "name": "ipython",
    "version": 3
   },
   "file_extension": ".py",
   "mimetype": "text/x-python",
   "name": "python",
   "nbconvert_exporter": "python",
   "pygments_lexer": "ipython3",
   "version": "3.9.1"
  },
  "orig_nbformat": 4,
  "kernelspec": {
   "name": "python3",
   "display_name": "Python 3.9.1 64-bit"
  },
  "interpreter": {
   "hash": "aee8b7b246df8f9039afb4144a1f6fd8d2ca17a180786b69acc140d282b71a49"
  }
 },
 "nbformat": 4,
 "nbformat_minor": 2,
 "cells": [
  {
   "cell_type": "code",
   "execution_count": 7,
   "metadata": {},
   "outputs": [
    {
     "output_type": "stream",
     "name": "stdout",
     "text": [
      "0.9282031632882576\n"
     ]
    }
   ],
   "source": [
    "import math\n",
    "\n",
    "n = 1000000\n",
    "\n",
    "s = 0\n",
    "for k in range(1, n+1):\n",
    "    v = math.sqrt( 3 * n / (3*n + k))\n",
    "    s += v\n",
    "r = s / n\n",
    "print(r)"
   ]
  },
  {
   "cell_type": "code",
   "execution_count": 9,
   "metadata": {},
   "outputs": [
    {
     "output_type": "stream",
     "name": "stdout",
     "text": [
      "0.9282032302755088\n0.7320508075688772\n0.6602540378443855\n0.4641016151377544\n0.19615242270663202\n"
     ]
    }
   ],
   "source": [
    "print(4 * math.sqrt(3) - 6)\n",
    "print(math.sqrt(3) - 1)\n",
    "print(5 * math.sqrt(3) - 8)\n",
    "print(2 * math.sqrt(3) - 3)\n",
    "print(3 * math.sqrt(3) - 5)"
   ]
  },
  {
   "source": [
    "답 1 $ 4 \\sqrt3 - 6 $"
   ],
   "cell_type": "markdown",
   "metadata": {}
  }
 ]
}