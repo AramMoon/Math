{
 "metadata": {
  "language_info": {
   "codemirror_mode": {
    "name": "ipython",
    "version": 3
   },
   "file_extension": ".py",
   "mimetype": "text/x-python",
   "name": "python",
   "nbconvert_exporter": "python",
   "pygments_lexer": "ipython3",
   "version": "3.9.1"
  },
  "orig_nbformat": 4,
  "kernelspec": {
   "name": "python3",
   "display_name": "Python 3.9.1 64-bit"
  },
  "interpreter": {
   "hash": "aee8b7b246df8f9039afb4144a1f6fd8d2ca17a180786b69acc140d282b71a49"
  }
 },
 "nbformat": 4,
 "nbformat_minor": 2,
 "cells": [
  {
   "cell_type": "code",
   "execution_count": 41,
   "metadata": {},
   "outputs": [
    {
     "output_type": "stream",
     "name": "stdout",
     "text": [
      "4 2.0\n12 5.0\n20 8.0\n28 11.0\n36 14.0\n44 17.0\n52 20.0\n60 23.0\n68 26.0\n76 29.0\n84 32.0\n92 35.0\n100 38.0\nresult 13\n"
     ]
    }
   ],
   "source": [
    "import math\n",
    "count = 0\n",
    "for i in range(1, 1000):\n",
    "    v = (4 + 3 * i) / 8\n",
    "    if v <= 40:\n",
    "        if v == math.ceil(v):\n",
    "            count += 1\n",
    "            print(i, v)\n",
    "print(\"result\", count)\n",
    "    "
   ]
  },
  {
   "source": [
    "답 13"
   ],
   "cell_type": "markdown",
   "metadata": {}
  }
 ]
}