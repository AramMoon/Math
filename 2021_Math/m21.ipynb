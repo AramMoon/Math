{
 "metadata": {
  "language_info": {
   "codemirror_mode": {
    "name": "ipython",
    "version": 3
   },
   "file_extension": ".py",
   "mimetype": "text/x-python",
   "name": "python",
   "nbconvert_exporter": "python",
   "pygments_lexer": "ipython3",
   "version": "3.9.1"
  },
  "orig_nbformat": 4,
  "kernelspec": {
   "name": "python3",
   "display_name": "Python 3.9.1 64-bit"
  },
  "interpreter": {
   "hash": "aee8b7b246df8f9039afb4144a1f6fd8d2ca17a180786b69acc140d282b71a49"
  }
 },
 "nbformat": 4,
 "nbformat_minor": 2,
 "cells": [
  {
   "cell_type": "code",
   "execution_count": 37,
   "metadata": {
    "tags": []
   },
   "outputs": [
    {
     "output_type": "stream",
     "name": "stdout",
     "text": [
      "63.0 [0.75, 4.0, 1.0, 17.0, 14.0, 5.0, 2.0, 69.0, 66.0, 57.0, 54.0, 21.0, 18.0, 9.0, 6.0, 277.0, 274.0] 0.75 69.0 92.0\n정답 92.0\n"
     ]
    }
   ],
   "source": [
    "n = 100\n",
    "\n",
    "def cal(v):\n",
    "    an = []\n",
    "    a1 = v\n",
    "    a2 = 1 / (1-a1)\n",
    "    a3 = a2 * a1 -2\n",
    "    an.append(a1)\n",
    "    an.append(a2)\n",
    "    an.append(a3)\n",
    "\n",
    "    # print(1, a1)\n",
    "    # print(2, a2)\n",
    "    for k in range(2, 9):\n",
    "        a_2n = a2 * an[-k] + 1\n",
    "        a_2n1 = a2 * an[-k] - 2\n",
    "        an.append(a_2n)\n",
    "        an.append(a_2n1)\n",
    "    return an\n",
    "\n",
    "for i in range(1,n):\n",
    "    an = cal(i / n)\n",
    "    # print(an)\n",
    "    v = an[7] - an[14]\n",
    "    if v > 62:\n",
    "        if v < 65:\n",
    "            print(v, an, an[0], an[7], an[7]/an[0])\n",
    "            print(\"정답\", an[7]/an[0])\n",
    "\n"
   ]
  },
  {
   "source": [
    "답 2 92"
   ],
   "cell_type": "markdown",
   "metadata": {}
  }
 ]
}