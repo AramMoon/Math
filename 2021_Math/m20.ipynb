{
 "metadata": {
  "language_info": {
   "codemirror_mode": {
    "name": "ipython",
    "version": 3
   },
   "file_extension": ".py",
   "mimetype": "text/x-python",
   "name": "python",
   "nbconvert_exporter": "python",
   "pygments_lexer": "ipython3",
   "version": "3.9.1"
  },
  "orig_nbformat": 4,
  "kernelspec": {
   "name": "python3",
   "display_name": "Python 3.9.1 64-bit"
  },
  "interpreter": {
   "hash": "aee8b7b246df8f9039afb4144a1f6fd8d2ca17a180786b69acc140d282b71a49"
  }
 },
 "nbformat": 4,
 "nbformat_minor": 2,
 "cells": [
  {
   "cell_type": "code",
   "execution_count": 1,
   "metadata": {},
   "outputs": [
    {
     "output_type": "stream",
     "name": "stdout",
     "text": [
      "s 5.724587470723463e-17\n"
     ]
    }
   ],
   "source": [
    "import math\n",
    "\n",
    "n = 8\n",
    "\n",
    "def f(x):\n",
    "    return math.pi * math.sin( 2 * math.pi * n * x)\n",
    "\n",
    "i = range(-100, 100)\n",
    "s = 0\n",
    "for k in i:\n",
    "    xx = k * 0.01\n",
    "    yy = f(xx)\n",
    "    s += yy * 0.01\n",
    "print(\"s\", s)\n"
   ]
  },
  {
   "cell_type": "code",
   "execution_count": null,
   "metadata": {},
   "outputs": [],
   "source": []
  }
 ]
}