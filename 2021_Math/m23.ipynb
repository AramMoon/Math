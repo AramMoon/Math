{
 "metadata": {
  "language_info": {
   "codemirror_mode": {
    "name": "ipython",
    "version": 3
   },
   "file_extension": ".py",
   "mimetype": "text/x-python",
   "name": "python",
   "nbconvert_exporter": "python",
   "pygments_lexer": "ipython3",
   "version": "3.9.1"
  },
  "orig_nbformat": 4,
  "kernelspec": {
   "name": "python3",
   "display_name": "Python 3.9.1 64-bit"
  },
  "interpreter": {
   "hash": "aee8b7b246df8f9039afb4144a1f6fd8d2ca17a180786b69acc140d282b71a49"
  }
 },
 "nbformat": 4,
 "nbformat_minor": 2,
 "cells": [
  {
   "cell_type": "code",
   "execution_count": 8,
   "metadata": {},
   "outputs": [
    {
     "output_type": "stream",
     "name": "stdout",
     "text": [
      "답 8\n"
     ]
    },
    {
     "output_type": "execute_result",
     "data": {
      "text/plain": [
       "(x**2 - 2*x + 8)/(x**2 - 2*x + 1)"
      ],
      "text/latex": "$\\displaystyle \\frac{x^{2} - 2 x + 8}{x^{2} - 2 x + 1}$"
     },
     "metadata": {},
     "execution_count": 8
    }
   ],
   "source": [
    "import sympy as sym\n",
    "from sympy.plotting import plot\n",
    "from sympy import simplify\n",
    "\n",
    "x = sym.Symbol('x')\n",
    "ex = (x**2-2*x-6) / (x-1)\n",
    "a = sym.diff(ex,x)\n",
    "# print(a)\n",
    "# plot(a)\n",
    "result = a.subs(x,0)\n",
    "print(\"답\", result)\n",
    "simplify(a)\n"
   ]
  },
  {
   "source": [
    "답 8"
   ],
   "cell_type": "markdown",
   "metadata": {}
  },
  {
   "cell_type": "code",
   "execution_count": 11,
   "metadata": {},
   "outputs": [
    {
     "output_type": "stream",
     "name": "stdout",
     "text": [
      "8.000700070001088\n"
     ]
    }
   ],
   "source": [
    "n = 0.0001\n",
    "r = ((n**2-2*n-6) / (n - 1)  - 6) / n\n",
    "print(r)"
   ]
  },
  {
   "cell_type": "code",
   "execution_count": null,
   "metadata": {},
   "outputs": [],
   "source": []
  }
 ]
}