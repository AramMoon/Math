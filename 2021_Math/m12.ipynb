{
 "metadata": {
  "language_info": {
   "codemirror_mode": {
    "name": "ipython",
    "version": 3
   },
   "file_extension": ".py",
   "mimetype": "text/x-python",
   "name": "python",
   "nbconvert_exporter": "python",
   "pygments_lexer": "ipython3",
   "version": 3
  },
  "orig_nbformat": 4
 },
 "nbformat": 4,
 "nbformat_minor": 2,
 "cells": [
  {
   "source": [
    "음 이건 그냥 더하기 문제니..\n",
    "y 8dnlclrk 4/3시그마 정도인데 여기서 2/3 시그마를 더하면 2시그마 아래 정도\n",
    "0.5 + 0.47772 = 0.9772  \n",
    "답 4번\n"
   ],
   "cell_type": "markdown",
   "metadata": {}
  }
 ]
}