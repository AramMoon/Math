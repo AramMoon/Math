{
 "metadata": {
  "language_info": {
   "codemirror_mode": {
    "name": "ipython",
    "version": 3
   },
   "file_extension": ".py",
   "mimetype": "text/x-python",
   "name": "python",
   "nbconvert_exporter": "python",
   "pygments_lexer": "ipython3",
   "version": "3.9.1"
  },
  "orig_nbformat": 4,
  "kernelspec": {
   "name": "python3",
   "display_name": "Python 3.9.1 64-bit"
  },
  "interpreter": {
   "hash": "aee8b7b246df8f9039afb4144a1f6fd8d2ca17a180786b69acc140d282b71a49"
  }
 },
 "nbformat": 4,
 "nbformat_minor": 2,
 "cells": [
  {
   "cell_type": "code",
   "execution_count": 5,
   "metadata": {},
   "outputs": [
    {
     "output_type": "execute_result",
     "data": {
      "text/plain": [
       "x**5 + 15*x**2 + 90/x + 270/x**4 + 405/x**7 + 243/x**10"
      ],
      "text/latex": "$\\displaystyle x^{5} + 15 x^{2} + \\frac{90}{x} + \\frac{270}{x^{4}} + \\frac{405}{x^{7}} + \\frac{243}{x^{10}}$"
     },
     "metadata": {},
     "execution_count": 5
    }
   ],
   "source": [
    "from sympy import Symbol\n",
    "from sympy import expand, factor\n",
    "\n",
    "x = Symbol('x')\n",
    "ex = (x + 3/(x**2))**5\n",
    "expand(ex)\n"
   ]
  },
  {
   "source": [
    "답 15"
   ],
   "cell_type": "markdown",
   "metadata": {}
  }
 ]
}